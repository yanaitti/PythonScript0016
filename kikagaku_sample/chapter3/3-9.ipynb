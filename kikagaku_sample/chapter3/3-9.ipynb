{
 "cells": [
  {
   "cell_type": "code",
   "execution_count": null,
   "metadata": {},
   "outputs": [],
   "source": [
    "from azure.cognitiveservices.language.textanalytics import TextAnalyticsClient\n",
    "from msrest.authentication import CognitiveServicesCredentials"
   ]
  },
  {
   "cell_type": "code",
   "execution_count": null,
   "metadata": {},
   "outputs": [],
   "source": [
    "subscription_key = '27335dbxxxxxxxxxxxxxxxxxxxxx'\n",
    "credentials = CognitiveServicesCredentials(subscription_key)\n",
    "credentals"
   ]
  },
  {
   "cell_type": "code",
   "execution_count": null,
   "metadata": {},
   "outputs": [],
   "source": [
    "text_analytics_url = 'https://xxxxx.azure.com/'\n",
    "text_analytics = TextAnalyticsClient(endpoint=text_analytics_url, credentials=credentials)"
   ]
  },
  {
   "cell_type": "code",
   "execution_count": null,
   "metadata": {},
   "outputs": [],
   "source": [
    "documents = [\n",
    "    {\n",
    "        'id':'1',\n",
    "        'language':'ja',\n",
    "        'text':'大きな仕事で成功し、次のチャンスに繋がると確信できました。'\n",
    "    },\n",
    "    {\n",
    "        'id':'2',\n",
    "        'language':'ja',\n",
    "        'text':'近くで大きな火事があり、負傷者も多数と、非常に残念なお知らせでした。'\n",
    "    }\n",
    "]"
   ]
  },
  {
   "cell_type": "code",
   "execution_count": null,
   "metadata": {},
   "outputs": [],
   "source": [
    "response = text_analytics.sentiment(documents=documents)\n",
    "for document in response.documents:\n",
    "    print('id', document.id, ', Sentiment Score: ', '{:.2f}'.format(document.score))"
   ]
  }
 ],
 "metadata": {
  "kernelspec": {
   "display_name": "Python 3",
   "language": "python",
   "name": "python3"
  },
  "language_info": {
   "codemirror_mode": {
    "name": "ipython",
    "version": 3
   },
   "file_extension": ".py",
   "mimetype": "text/x-python",
   "name": "python",
   "nbconvert_exporter": "python",
   "pygments_lexer": "ipython3",
   "version": "3.6.5"
  }
 },
 "nbformat": 4,
 "nbformat_minor": 2
}
