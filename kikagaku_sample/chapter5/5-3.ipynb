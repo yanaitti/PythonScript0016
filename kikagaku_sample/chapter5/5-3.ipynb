{
 "cells": [
  {
   "cell_type": "markdown",
   "metadata": {},
   "source": [
    "# Chapter5-3 モデル構築\n",
    "## 5-3-7 検証用スクリプトの実装"
   ]
  },
  {
   "cell_type": "code",
   "execution_count": null,
   "metadata": {},
   "outputs": [],
   "source": [
    "!pip install azure-cognitiveservices-vision-customvision"
   ]
  },
  {
   "cell_type": "code",
   "execution_count": null,
   "metadata": {},
   "outputs": [],
   "source": [
    "import glob\n",
    "from azure.cognitiveservices.vision.customvision.prediction import CustomVisionPredictionClient"
   ]
  },
  {
   "cell_type": "code",
   "execution_count": null,
   "metadata": {},
   "outputs": [],
   "source": [
    "base_url = 'エンドポイントURL'\n",
    "projectID = 'プロジェクトID'\n",
    "publish_iteration_name = 'イテレーション名'\n",
    "prediction_key = '予測キー'"
   ]
  },
  {
   "cell_type": "code",
   "execution_count": null,
   "metadata": {},
   "outputs": [],
   "source": [
    "def testModel(testfiles, fishname):\n",
    "    data_count = len(testfiles)\n",
    "    true_count = 0\n",
    "    \n",
    "    # 予測用インスタンスの作成　…①\n",
    "    predictor = CustomVisionPredictionClient(prediction_key, endpoint=base_url)\n",
    "    \n",
    "    for testfile in testfiles:\n",
    "        predicts = {}\n",
    "        with open(testfile, mode='rb') as f:\n",
    "            # 予測実行　…②\n",
    "            results = predictor.classify_image(projectID, publish_iteration_name, f.read())\n",
    "        \n",
    "        # 予測結果のタグの数だけループ　…③\n",
    "        for prediction in results.predictions:\n",
    "            # 予測した魚とその確率を紐づけて格納　…④\n",
    "            predicts[prediction.tag_name] = prediction.probability\n",
    "        \n",
    "        # 一番確率の高い魚を予測結果として選択　…⑤\n",
    "        prediction_result = max(predicts, key=predicts.get)\n",
    "        \n",
    "        # 予測結果が合っていれば正解数を増やす\n",
    "        if fishname == prediction_result:\n",
    "            true_count += 1\n",
    "    \n",
    "    # 正解率の算出\n",
    "    accuracy = (true_count / data_count) * 100\n",
    "    print('正解率:' + str(accuracy) + '%')"
   ]
  },
  {
   "cell_type": "markdown",
   "metadata": {},
   "source": [
    "## 5-3-8 検証用スクリプトの実行"
   ]
  },
  {
   "cell_type": "code",
   "execution_count": null,
   "metadata": {},
   "outputs": [],
   "source": [
    "# 検証用画像を保存したルートディレクトリパス\n",
    "root_dir = 'fishimages/'\n",
    "# 検証対象の魚名一覧\n",
    "fishnames = ['アイゴ','オニカサゴ','カサゴ','カワハギ','キュウセンベラ',\n",
    "             'クサフグ','ソウシハギ','マハゼ','マアジ','マイワシ','ミノカサゴ',\n",
    "             'メジナ','メバル']\n",
    "\n",
    "for fishname in fishnames:\n",
    "    print('****' + fishname + '****')\n",
    "    # testデータのリストを取得\n",
    "    testfiles = glob.glob(root_dir + fishname + '/test/*')\n",
    "    testModel(testfiles, fishname)"
   ]
  }
 ],
 "metadata": {
  "kernelspec": {
   "display_name": "Python 3",
   "language": "python",
   "name": "python3"
  },
  "language_info": {
   "codemirror_mode": {
    "name": "ipython",
    "version": 3
   },
   "file_extension": ".py",
   "mimetype": "text/x-python",
   "name": "python",
   "nbconvert_exporter": "python",
   "pygments_lexer": "ipython3",
   "version": "3.6.5"
  }
 },
 "nbformat": 4,
 "nbformat_minor": 2
}
