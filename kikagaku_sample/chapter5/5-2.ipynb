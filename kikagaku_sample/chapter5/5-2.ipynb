{
 "cells": [
  {
   "cell_type": "markdown",
   "metadata": {},
   "source": [
    "# Chapter5-2 データ収集\n",
    "## 5-2-2 データ収集スクリプトの実装"
   ]
  },
  {
   "cell_type": "code",
   "execution_count": null,
   "metadata": {},
   "outputs": [],
   "source": [
    "import os\t\t# …①\n",
    "import glob\t\t# …②\n",
    "import random\t# …③\n",
    "import shutil\t# …④\n",
    "from icrawler.builtin import GoogleImageCrawler\t# …⑤"
   ]
  },
  {
   "cell_type": "code",
   "execution_count": null,
   "metadata": {},
   "outputs": [],
   "source": [
    "# 画像を保存するルートディレクトリパス\n",
    "root_dir = 'fishimages/'　# …⑥\n",
    "# 魚画像検索キーワードリスト\n",
    "fishnames = ['アイゴ', 'オニカサゴ', 'カサゴ', 'カワハギ', 'キュウセンベラ',\n",
    "             'クサフグ', 'ソウシハギ', 'マハゼ', 'マアジ', 'マイワシ', 'ミノカサゴ',\n",
    "             'メジナ', 'メバル']\n",
    "# 収集画像データ数\n",
    "data_count = 100"
   ]
  },
  {
   "cell_type": "code",
   "execution_count": null,
   "metadata": {},
   "outputs": [],
   "source": [
    "def crawl_image(fishname, datacount, root_dir):\n",
    "    \n",
    "    crawler = GoogleImageCrawler(storage={'root_dir':root_dir + fishname + '/train'}) \n",
    "    # …⑦\n",
    "\n",
    "    filters = dict(\n",
    "                    size='large',\n",
    "                    type='photo'\n",
    "                  )\n",
    "    # …⑧\n",
    "    \n",
    "    # クローリングの実行　…⑨\n",
    "    crawler.crawl(\n",
    "                    keyword=fishname, \n",
    "                    filters=filters, \n",
    "                    max_num=datacount\n",
    "                 )\n",
    "    \n",
    "    # 前回実行時のtestディレクトリが存在する場合、ファイルをすべて削除する\n",
    "    if os.path.isdir(root_dir + fishname + '/test'):\n",
    "        shutil.rmtree(root_dir + fishname + '/test')\n",
    "    os.makedirs(root_dir + fishname + '/test')\n",
    "    # …⑩\n",
    "    \n",
    "    # ダウンロードファイルのリストを取得  …⑪\n",
    "    filelist = glob.glob(root_dir + fishname + '/train/*')\n",
    "    # ダウンロード数の2割をtestデータとして抽出  …⑫\n",
    "    test_ratio = 0.2\n",
    "    testfiles = random.sample(filelist, int(len(filelist) * test_ratio))\n",
    "    \n",
    "    for testfile in testfiles:\n",
    "        shutil.move(testfile, root_dir + fishname + '/test/')"
   ]
  },
  {
   "cell_type": "markdown",
   "metadata": {},
   "source": [
    "## 5-2-3  データ収集スクリプトの実装"
   ]
  },
  {
   "cell_type": "code",
   "execution_count": null,
   "metadata": {},
   "outputs": [],
   "source": [
    "# 魚画像キーワードの数だけクローリングを実行\n",
    "for fishname in fishnames:\n",
    "    crawl_image(fishname, data_count, root_dir)"
   ]
  }
 ],
 "metadata": {
  "kernelspec": {
   "display_name": "Python 3",
   "language": "python",
   "name": "python3"
  },
  "language_info": {
   "codemirror_mode": {
    "name": "ipython",
    "version": 3
   },
   "file_extension": ".py",
   "mimetype": "text/x-python",
   "name": "python",
   "nbconvert_exporter": "python",
   "pygments_lexer": "ipython3",
   "version": "3.6.5"
  }
 },
 "nbformat": 4,
 "nbformat_minor": 2
}
