{
 "cells": [
  {
   "cell_type": "code",
   "execution_count": null,
   "metadata": {},
   "outputs": [],
   "source": [
    "import requests# …①\n",
    "import json# …②\n",
    "import time# …③"
   ]
  },
  {
   "cell_type": "code",
   "execution_count": null,
   "metadata": {},
   "outputs": [],
   "source": [
    "#必要な情報の書き換え\n",
    "client_id='L××××××××××××××××××××××××××××dlB'\n",
    "client_secret='8Utc_×××××××××××××××××××××××××××××××××××xzxL_2haMqO2Pw'\n",
    "domain=\"https://×××××××.auth0.com\"\n",
    "facebook_user_id=\"facebook|2××××××××××××××12\"\n",
    "insta_id=\"17××××××××××××××88\"\n",
    "hash_tag_name='任意のハッシュタグ名を入力'\n"
   ]
  },
  {
   "cell_type": "code",
   "execution_count": null,
   "metadata": {},
   "outputs": [],
   "source": [
    "#Auth0　api_tokenの取得　\n",
    "\n",
    "headers = {\n",
    "    'content-type': 'application/json',\n",
    "}\n",
    "\n",
    "data = '{\\\"client_id\\\":\\\"'+client_id+'\\\",\\\"client_secret\\\":\\\"'+client_secret+'\\\",\\\"audience\\\":\\\"'+domein+\"/api/v2/\"+'\\\",\\\"grant_type\\\":\\\"client_credentials\\\"}'\n",
    "\n",
    "response = requests.post(domein+'/oauth/token', headers=headers, data=data)\n",
    "auth0_api_token=response.json()\n",
    "\n",
    "print(auth0_api_token['access_token'])"
   ]
  },
  {
   "cell_type": "code",
   "execution_count": null,
   "metadata": {},
   "outputs": [],
   "source": [
    "#facebook 全ての情報を取得　　\n",
    "#必要な情報　　ユーザー特定のためのFB　USER_ID\n",
    "#userが特定できていれば、その後、繰り返し取得可能\n",
    "\n",
    "api_token_auth=auth0_api_token['access_token']\n",
    "\n",
    "headers = {\n",
    "     'Authorization': 'Bearer '+str(api_token_auth)\n",
    "    }\n",
    "response = requests.get(domein+'/api/v2/users/'+facebook_user_id, headers=headers)\n",
    "print(response)\n",
    "userinfo=response.json()\n",
    "\n",
    "fb_access_token= userinfo['identities'][0]['access_token']\n",
    "print('fb_access_token:'+fb_access_token)"
   ]
  },
  {
   "cell_type": "code",
   "execution_count": null,
   "metadata": {},
   "outputs": [],
   "source": [
    "userinfo"
   ]
  },
  {
   "cell_type": "code",
   "execution_count": null,
   "metadata": {},
   "outputs": [],
   "source": [
    "#ハッシュタグidを取得\n",
    "\n",
    "url = 'https://graph.facebook.com/v3.0/ig_hashtag_search/?user_id='+insta_id+'&q='+hash_tag_name+'&access_token='+fb_access_token\n",
    "r= requests.get(url)\n",
    "if(r.status_code is not requests.codes.ok):\n",
    "    print( 'ステータスコード：'+str(r.status_code))\n",
    "    print('200じゃないので終了')\n",
    "else:\n",
    "    json_dict = json.loads(r.text)\n",
    "    print(json_dict)\n",
    "    hash_tag_id=json_dict['data'][0]['id']\n",
    "    print(hash_tag_id)"
   ]
  },
  {
   "cell_type": "code",
   "execution_count": null,
   "metadata": {},
   "outputs": [],
   "source": [
    "##人気の投稿１００件まで取得\n",
    "#アクセス制限がかかっている場合は、1時間に２０0回までしかコールできない為、60件程度しか取得できない場合もある\n",
    "#１時間おくとまた取得できた"
   ]
  },
  {
   "cell_type": "code",
   "execution_count": null,
   "metadata": {},
   "outputs": [],
   "source": [
    "contents_list=[]\n",
    "paging_next=[]\n",
    "url = 'https://graph.facebook.com/v3.2/'+hash_tag_id+'/top_media/?user_id='+insta_id+'&fields=id,media_type,caption,comments_count,like_count,media_url,children{media_url},permalink&limit=50&access_token='+fb_access_token\n",
    "r = requests.get(url)\n",
    "json_dict = json.loads(r.text)\n",
    "paging_next.append(json_dict['paging']['next'])\n",
    "contents_list.append(json_dict)\n",
    "print(json_dict['paging']['next'])\n",
    "#print(json_dict['data'])\n",
    "\n",
    "while(json_dict['paging']['next']):\n",
    "    next_hash=str(json_dict['paging']['next'])\n",
    "    r = requests.get(next_hash)\n",
    "    if(r.status_code is not requests.codes.ok):\n",
    "        print( 'ステータスコード：'+str(r.status_code))\n",
    "        print('200じゃないので終了')\n",
    "        break\n",
    "    else:\n",
    "        json_dict = json.loads(r.text)\n",
    "        if(json_dict['data']==[]):\n",
    "            print('dataが　空なので[アクセスレート制限の可能性高い]break')\n",
    "            break\n",
    "        else:\n",
    "            contents_list.append(json_dict)\n",
    "            print('コンテンツリストの合計'+str(len(contents_list)))\n",
    "            #print(json_dict['data'])\n",
    "            print(json_dict['paging']['next'])\n",
    "            #1時間に２０0回までしかコールできない  50 200=10000  #実際2500件までしかAPIで取得できない　しかし１時間おくとまた取得できた \n",
    "            time.sleep(1)\n",
    "            num=int(0)\n",
    "            for json_dict_test in enumerate(contents_list):\n",
    "                json_dict_num=len(json_dict_test[1]['data'])\n",
    "                print(json_dict_num)\n",
    "                num=num+json_dict_num\n",
    "            print('合計'+str(num))\n",
    "            if(int(num)>=100):\n",
    "                print('100以上なので、抜ける')\n",
    "                break\n",
    "else:\n",
    "    print(\"ループ処理は完了しました。\")\n",
    "    "
   ]
  },
  {
   "cell_type": "code",
   "execution_count": null,
   "metadata": {},
   "outputs": [],
   "source": [
    "len(contents_list)"
   ]
  },
  {
   "cell_type": "code",
   "execution_count": null,
   "metadata": {},
   "outputs": [],
   "source": [
    "len(contents_list[0]['data'])"
   ]
  },
  {
   "cell_type": "code",
   "execution_count": null,
   "metadata": {},
   "outputs": [],
   "source": [
    "single_json_content_list=[]\n",
    "for json_content in contents_list:\n",
    "    for single_json_content in json_content['data']:\n",
    "        print(single_json_content)\n",
    "        single_json_content_list.append(single_json_content)"
   ]
  },
  {
   "cell_type": "code",
   "execution_count": null,
   "metadata": {},
   "outputs": [],
   "source": [
    "#シングルコンテンツの件数\n",
    "print(len(single_json_content_list))"
   ]
  },
  {
   "cell_type": "code",
   "execution_count": null,
   "metadata": {},
   "outputs": [],
   "source": [
    "single_json_content_list[0]"
   ]
  },
  {
   "cell_type": "code",
   "execution_count": null,
   "metadata": {},
   "outputs": [],
   "source": [
    "single_json_content_list[0]['id']"
   ]
  },
  {
   "cell_type": "code",
   "execution_count": null,
   "metadata": {},
   "outputs": [],
   "source": [
    "single_json_content_list[0]['caption']"
   ]
  },
  {
   "cell_type": "code",
   "execution_count": null,
   "metadata": {},
   "outputs": [],
   "source": [
    "################################################################\n",
    "#取得したデータに、ネガポジをつけ、json形式で保存\n",
    "################################################################"
   ]
  },
  {
   "cell_type": "code",
   "execution_count": null,
   "metadata": {},
   "outputs": [],
   "source": []
  },
  {
   "cell_type": "code",
   "execution_count": null,
   "metadata": {},
   "outputs": [],
   "source": [
    "from pprint import pprint\n",
    "#str型（文字列）をdict型に変換\n",
    "import ast"
   ]
  },
  {
   "cell_type": "code",
   "execution_count": null,
   "metadata": {},
   "outputs": [],
   "source": [
    "#キーを取得する\n",
    "subscription_key = \"01896db540db440693630483908e49bc\"\n",
    "assert subscription_key\n",
    "#APIのエンドポイントの基盤を入力する\n",
    "#endpoint \"https://japaneast.api.cognitive.microsoft.com/text/analytics/v2.0\"\n",
    "text_analytics_base_url = \"https://japaneast.api.cognitive.microsoft.com/text/analytics/v2.0/\""
   ]
  },
  {
   "cell_type": "code",
   "execution_count": null,
   "metadata": {},
   "outputs": [],
   "source": [
    "#感情分析を行うAPIのエンドポイントをセット\n",
    "sentiment_api_url = text_analytics_base_url + \"sentiment\"\n",
    "print(sentiment_api_url)"
   ]
  },
  {
   "cell_type": "code",
   "execution_count": null,
   "metadata": {},
   "outputs": [],
   "source": [
    "single_json_content_list[0]"
   ]
  },
  {
   "cell_type": "code",
   "execution_count": null,
   "metadata": {},
   "outputs": [],
   "source": [
    "def change_dict_key(d, old_key, new_key, default_value=None):\n",
    "    d[new_key] = d.pop(old_key, default_value)"
   ]
  },
  {
   "cell_type": "code",
   "execution_count": null,
   "metadata": {},
   "outputs": [],
   "source": [
    "#APIで感情分析する対象のテキストをjson形式で作成\n",
    "\n",
    "for json_content in contents_list:\n",
    "    for single_json_content in json_content['data']:\n",
    "        single_json_content['language']= 'ja'\n",
    "        "
   ]
  },
  {
   "cell_type": "code",
   "execution_count": null,
   "metadata": {},
   "outputs": [],
   "source": [
    "#APIで感情分析する対象のテキストをjson形式で作成\n",
    "azure_json=''\n",
    "for single_json_for_azure in single_json_content_list:\n",
    "    try:\n",
    "        azure_json_single=str({'id': single_json_for_azure['id'],'language': 'ja','text':single_json_for_azure['caption'],'media_type':single_json_for_azure['media_type'],'comments_count':single_json_for_azure['comments_count'],'like_count':single_json_for_azure['like_count'],'permalink':single_json_for_azure['permalink'],'media_url':single_json_for_azure['media_url']})\n",
    "        azure_json +=azure_json_single+','\n",
    "    except KeyError:\n",
    "        azure_json_single=str({'id': single_json_for_azure['id'],'language': 'ja','text':single_json_for_azure['caption'],'media_type':single_json_for_azure['media_type'],'comments_count':single_json_for_azure['comments_count'],'like_count':single_json_for_azure['like_count'],'permalink':single_json_for_azure['permalink'],'children':single_json_for_azure['children']})\n",
    "        azure_json +=azure_json_single+','\n",
    "# # # # #最後だけカンマ抜く\n",
    "azure_json=azure_json[:-1]\n",
    "azure_json=\"{'documents' : [\"+ azure_json+\"]}\""
   ]
  },
  {
   "cell_type": "code",
   "execution_count": null,
   "metadata": {},
   "outputs": [],
   "source": [
    "print(azure_json)\n",
    "type(azure_json)"
   ]
  },
  {
   "cell_type": "code",
   "execution_count": null,
   "metadata": {},
   "outputs": [],
   "source": [
    "#str型をdictに変換\n",
    "azure_json=ast.literal_eval(azure_json)\n",
    "type(azure_json)"
   ]
  },
  {
   "cell_type": "code",
   "execution_count": null,
   "metadata": {
    "scrolled": true
   },
   "outputs": [],
   "source": [
    "#ドキュメントのセンチメント スコアは 0 〜1 の間であり、高いスコアは肯定的なセンチメントを示します。\n",
    "headers   = {\"Ocp-Apim-Subscription-Key\": subscription_key}\n",
    "response  = requests.post(sentiment_api_url, headers=headers, json=azure_json)\n",
    "sentiments = response.json()\n",
    "pprint(sentiments)"
   ]
  },
  {
   "cell_type": "code",
   "execution_count": null,
   "metadata": {},
   "outputs": [],
   "source": [
    "#念のため、ID順に、azure_json['documents']とsentiments['documents']をソートする\n",
    "sentiments['documents'].sort(key=lambda x: x['id'], reverse=False)\n",
    "azure_json['documents'].sort(key=lambda x: x['id'], reverse=False)"
   ]
  },
  {
   "cell_type": "code",
   "execution_count": null,
   "metadata": {
    "scrolled": true
   },
   "outputs": [],
   "source": [
    "#先頭に格納されているデータとid　を確認\n",
    "print(sentiments['documents'][0])\n",
    "print(azure_json['documents'][0])"
   ]
  },
  {
   "cell_type": "code",
   "execution_count": null,
   "metadata": {},
   "outputs": [],
   "source": [
    "#最後尾に格納されているデータとid　を確認\n",
    "print(sentiments['documents'][-1])\n",
    "print(azure_json['documents'][-1])"
   ]
  },
  {
   "cell_type": "code",
   "execution_count": null,
   "metadata": {},
   "outputs": [],
   "source": [
    "print(len(sentiments['documents']))\n",
    "print(len(azure_json['documents']))"
   ]
  },
  {
   "cell_type": "code",
   "execution_count": null,
   "metadata": {},
   "outputs": [],
   "source": [
    "sentiments['documents'][50]"
   ]
  },
  {
   "cell_type": "code",
   "execution_count": null,
   "metadata": {},
   "outputs": [],
   "source": [
    "azure_json['documents'][50]"
   ]
  },
  {
   "cell_type": "code",
   "execution_count": null,
   "metadata": {
    "scrolled": true
   },
   "outputs": [],
   "source": [
    "for num,sentiments_single in enumerate(sentiments['documents']):\n",
    "    #print(azure_json['documents'][num])\n",
    "    azure_json['documents'][num]['score']=sentiments['documents'][num]['score']"
   ]
  },
  {
   "cell_type": "code",
   "execution_count": null,
   "metadata": {},
   "outputs": [],
   "source": []
  },
  {
   "cell_type": "code",
   "execution_count": null,
   "metadata": {},
   "outputs": [],
   "source": [
    "#############ポジティブ順に並び替える（Pythonで辞書のリストを特定のキーの値に従ってソート）　###################################"
   ]
  },
  {
   "cell_type": "code",
   "execution_count": null,
   "metadata": {},
   "outputs": [],
   "source": [
    "#辞書をセット\n",
    "naga_sort=azure_json['documents']\n",
    "posi_sort=azure_json['documents']"
   ]
  },
  {
   "cell_type": "code",
   "execution_count": null,
   "metadata": {},
   "outputs": [],
   "source": [
    "posi_sort.sort(key=lambda x: x['score'], reverse=True)\n",
    "posi_sort"
   ]
  },
  {
   "cell_type": "code",
   "execution_count": null,
   "metadata": {},
   "outputs": [],
   "source": [
    "print(posi_sort[0]['text'])\n",
    "print(posi_sort[0][ 'score'])"
   ]
  },
  {
   "cell_type": "code",
   "execution_count": null,
   "metadata": {},
   "outputs": [],
   "source": [
    "print(posi_sort[-1]['text'])\n",
    "print(posi_sort[-1][ 'score'])"
   ]
  },
  {
   "cell_type": "code",
   "execution_count": null,
   "metadata": {},
   "outputs": [],
   "source": [
    "#############ネガティブ順に並び替える（Pythonで辞書のリストを特定のキーの値に従ってソート）　###################################"
   ]
  },
  {
   "cell_type": "code",
   "execution_count": null,
   "metadata": {},
   "outputs": [],
   "source": [
    "naga_sort.sort(key=lambda x: x['score'], reverse=False)\n",
    "naga_sort"
   ]
  },
  {
   "cell_type": "code",
   "execution_count": null,
   "metadata": {},
   "outputs": [],
   "source": [
    "print(naga_sort[0]['text'])\n",
    "print(naga_sort[0][ 'score'])"
   ]
  },
  {
   "cell_type": "code",
   "execution_count": null,
   "metadata": {},
   "outputs": [],
   "source": [
    "print(naga_sort[-1]['text'])\n",
    "print(naga_sort[-1][ 'score'])"
   ]
  }
 ],
 "metadata": {
  "kernelspec": {
   "display_name": "Python 3",
   "language": "python",
   "name": "python3"
  },
  "language_info": {
   "codemirror_mode": {
    "name": "ipython",
    "version": 3
   },
   "file_extension": ".py",
   "mimetype": "text/x-python",
   "name": "python",
   "nbconvert_exporter": "python",
   "pygments_lexer": "ipython3",
   "version": "3.6.5"
  }
 },
 "nbformat": 4,
 "nbformat_minor": 2
}
