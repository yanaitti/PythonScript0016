{
 "cells": [
  {
   "cell_type": "markdown",
   "metadata": {},
   "source": [
    "# Chapter6-2 自然言語処理の基礎"
   ]
  },
  {
   "cell_type": "markdown",
   "metadata": {},
   "source": [
    "## 6-2-1 Janomeを使った形態素解析"
   ]
  },
  {
   "cell_type": "markdown",
   "metadata": {},
   "source": [
    "### 6-2-1-1 Janomeのインストールと動作確認"
   ]
  },
  {
   "cell_type": "code",
   "execution_count": null,
   "metadata": {},
   "outputs": [],
   "source": [
    "from janome.tokenizer import Tokenizer"
   ]
  },
  {
   "cell_type": "code",
   "execution_count": null,
   "metadata": {},
   "outputs": [],
   "source": [
    "tagger = Tokenizer()"
   ]
  },
  {
   "cell_type": "code",
   "execution_count": null,
   "metadata": {
    "scrolled": true
   },
   "outputs": [],
   "source": [
    "text = '私はキカガクです。'\n",
    "results = tagger.tokenize(text)\n",
    "results"
   ]
  },
  {
   "cell_type": "code",
   "execution_count": null,
   "metadata": {},
   "outputs": [],
   "source": [
    "for result in results:\n",
    "    print(result)"
   ]
  },
  {
   "cell_type": "code",
   "execution_count": null,
   "metadata": {},
   "outputs": [],
   "source": [
    "result = results[0]\n",
    "result"
   ]
  },
  {
   "cell_type": "code",
   "execution_count": null,
   "metadata": {},
   "outputs": [],
   "source": [
    "vars(result)"
   ]
  },
  {
   "cell_type": "code",
   "execution_count": null,
   "metadata": {},
   "outputs": [],
   "source": [
    "# 単語\n",
    "result.surface"
   ]
  },
  {
   "cell_type": "code",
   "execution_count": null,
   "metadata": {},
   "outputs": [],
   "source": [
    "# 品詞\n",
    "result.part_of_speech"
   ]
  },
  {
   "cell_type": "code",
   "execution_count": null,
   "metadata": {},
   "outputs": [],
   "source": [
    "tagger = Tokenizer(wakati=True)"
   ]
  },
  {
   "cell_type": "code",
   "execution_count": null,
   "metadata": {},
   "outputs": [],
   "source": [
    "results = tagger.tokenize(text)\n",
    "results"
   ]
  },
  {
   "cell_type": "markdown",
   "metadata": {},
   "source": [
    "## 6-2-2 gensimを使ったトピック分析"
   ]
  },
  {
   "cell_type": "markdown",
   "metadata": {},
   "source": [
    "### 6-2-2-2 特徴抽出"
   ]
  },
  {
   "cell_type": "code",
   "execution_count": null,
   "metadata": {},
   "outputs": [],
   "source": [
    "text1 = '私はキカガクです。'\n",
    "text2 = 'キカガクは教育の会社です。'\n",
    "text3 = '教育は重要です。'"
   ]
  },
  {
   "cell_type": "code",
   "execution_count": null,
   "metadata": {},
   "outputs": [],
   "source": [
    "from janome.tokenizer import Tokenizer\n",
    "tagger = Tokenizer(wakati=True)"
   ]
  },
  {
   "cell_type": "code",
   "execution_count": null,
   "metadata": {},
   "outputs": [],
   "source": [
    "# 形態素解析\n",
    "words1 = tagger.tokenize(text1)\n",
    "words2 = tagger.tokenize(text2)\n",
    "words3 = tagger.tokenize(text3)"
   ]
  },
  {
   "cell_type": "code",
   "execution_count": null,
   "metadata": {},
   "outputs": [],
   "source": [
    "print(words1, words2, words3)"
   ]
  },
  {
   "cell_type": "code",
   "execution_count": null,
   "metadata": {},
   "outputs": [],
   "source": [
    "from gensim import corpora, matutils"
   ]
  },
  {
   "cell_type": "code",
   "execution_count": null,
   "metadata": {},
   "outputs": [],
   "source": [
    "word_collect = [words1, words2, words3]\n",
    "word_collect"
   ]
  },
  {
   "cell_type": "code",
   "execution_count": null,
   "metadata": {},
   "outputs": [],
   "source": [
    "dictionary = corpora.Dictionary(word_collect)"
   ]
  },
  {
   "cell_type": "code",
   "execution_count": null,
   "metadata": {},
   "outputs": [],
   "source": [
    "n_words = len(dictionary)\n",
    "n_words"
   ]
  },
  {
   "cell_type": "code",
   "execution_count": null,
   "metadata": {},
   "outputs": [],
   "source": [
    "for word in dictionary.items():\n",
    "    print(word)"
   ]
  },
  {
   "cell_type": "code",
   "execution_count": null,
   "metadata": {},
   "outputs": [],
   "source": [
    "vars(dictionary)"
   ]
  },
  {
   "cell_type": "code",
   "execution_count": null,
   "metadata": {},
   "outputs": [],
   "source": [
    "bow1_id = dictionary.doc2bow(words1)\n",
    "bow1_id"
   ]
  },
  {
   "cell_type": "code",
   "execution_count": null,
   "metadata": {},
   "outputs": [],
   "source": [
    "bow2_id = dictionary.doc2bow(words2)\n",
    "bow2_id"
   ]
  },
  {
   "cell_type": "code",
   "execution_count": null,
   "metadata": {},
   "outputs": [],
   "source": [
    "bow3_id = dictionary.doc2bow(words3)\n",
    "bow3_id"
   ]
  },
  {
   "cell_type": "code",
   "execution_count": null,
   "metadata": {},
   "outputs": [],
   "source": [
    "bow_id = [bow1_id, bow2_id, bow3_id]\n",
    "bow_id"
   ]
  },
  {
   "cell_type": "code",
   "execution_count": null,
   "metadata": {},
   "outputs": [],
   "source": [
    "bow = matutils.corpus2dense(bow_id, n_words)\n",
    "print(bow)"
   ]
  },
  {
   "cell_type": "code",
   "execution_count": null,
   "metadata": {},
   "outputs": [],
   "source": [
    "bow = matutils.corpus2dense(bow_id, n_words).T\n",
    "print(bow)"
   ]
  },
  {
   "cell_type": "markdown",
   "metadata": {},
   "source": [
    "##  6-2-3 Summpyを使った文章要約"
   ]
  },
  {
   "cell_type": "code",
   "execution_count": null,
   "metadata": {},
   "outputs": [],
   "source": [
    "from summpy.summpy.lexrank import summarize"
   ]
  },
  {
   "cell_type": "code",
   "execution_count": null,
   "metadata": {},
   "outputs": [],
   "source": [
    "text = \"\"\"\n",
    "ＡＩ導入に失敗する3つの落とし穴を現役講師が紹介「創業1年でセミナー登壇150回・受講生3,000名」の実績\n",
    "2018/02/05\n",
    "\n",
    "人工知能・機械学習の教育およびコンサルティング事業を手がける株式会社キカガク(本社：東京都豊島区、代表取締役社長：吉崎 亮介、以下、当社)は、2018年1月18日で創業1周年を迎え、この1年間でセミナー・イベント登壇150回、受講生が3,000名を超えました。\n",
    "\n",
    "セミナーを開催する中で、参考書では書かれていない、現場でAIを導入する際に見落とされがちな3つの落とし穴が浮き彫りになりましたので、ご報告いたします。\n",
    "\n",
    "\n",
    "受講生とお祝いする１周年記念パーティー\n",
    "\n",
    "主な取り組み\n",
    "ディープラーニングハンズオンセミナー\n",
    "(日本マイクロソフト株式会社、株式会社Preferred Networks)\n",
    "京都府データサイエンティスト養成講座\n",
    "(SOMPOホールディングス株式会社、京都府)\n",
    "実践！機械学習　ビジネス活用講座\n",
    "(株式会社日経BP)\n",
    "AI導入に失敗する3つの落とし穴\n",
    "多くの方を指導する中で、うまく導入できない事例にも遭遇することがあり、AIが万能ではないということを身をもって実感する1年でもありました。\n",
    "そこで、少しでも多くの方が失敗することを避けられるように、参考書では書かれていないけれど、現場で導入する際に見落とされがちな3つの落とし穴を紹介します。\n",
    "\n",
    "1.揃っているデータと使えるデータが違う\n",
    "\n",
    "「大量にデータを蓄積できているため、こちらをAIで解析したい」という相談が多くありました。手段と目的が逆転していることは当然の間違いですが、こういった相談の大半はデータを見ると確かに大量にデータを蓄積できているのですが、AI(≒機械学習)にとっては「使えない」形式でした。\n",
    "AIで解析を行うためには最初に目的を設定する必要があり、その目的に応じたデータを保有しておく必要があります。\n",
    "しかし、目的なく蓄積されたデータでは、AIによって解析できず、その結果、データから目的を見つけ出すといった手段と目的が逆転してしまう問題が度々生じています。\n",
    "近年、IoT(Internet of Things)の注目が増し、様々なデータを収集するサービスの提供が始まっていますが、解析の目的が明確でないまま収集を行っているケースもあります。\n",
    "「使うために貯める」ことがデータ収集の大前提であり、「使うAI」を意識して「貯めるIoT」の実施が求められています。\n",
    "また、目的に応じて蓄積できているデータの場合も落とし穴があり、そのデータがAIに即時使える形式でないことが多くありました。\n",
    "そのため、Python等のプログラミングを駆使して、そのデータを「使える形」に整理する必要があり、この作業には比較的長い時間を要するため、作業期間の設定に注意が必要です。\n",
    "\n",
    "落とし穴1\n",
    "目的なく蓄積されたデータは使えない\n",
    "データが揃っている場合も「使える」ためのデータ整理に多くの時間を割く\n",
    "2.導入後のオペレーションを意識していない\n",
    "\n",
    "AIブームの到来に伴い、AIに関する参考書も多く出版され、「モデル構築」と呼ばれるデータ間の関係性を導き出す手法を勉強する人が増加しました。\n",
    "「予測精度が80％」といったデータ解析を駆使した議論ができる人材が増える一方、その解析結果を現場のシステムへ導入できている人は未だ一握りです。\n",
    "「AIによる解析」と「導入に必要なシステム自動化」に必要なスキルセットは異なり、解析は終えたものの導入の障壁で挫折するケースも少なくありません。\n",
    "また、AIによって今の作業をすべて代替させる前提で取り組む人が多いという問題もあります。\n",
    "「AIは人間よりも強い」といった誤解が未だにありますが、人間に囲碁で勝利したAIなど限られたルールの中で、極めて優秀な技術者が集まり、膨大な計算機リソースが使えるといった特殊なケースを除き、「人間を100点として、どのくらいその機能に近づけていくことができるか」が取り組むべき課題となります。\n",
    "\n",
    "そのため、精度100％を出すことは現実的に困難であるため、100％の精度でない中でもオペレーションを効率化できる仕組みづくりが重要となります。\n",
    "「人間をAIに置き換えたい」ではなく、「人間の作業の一部をAIに置き換えて、作業の効率化を図りたい」という問題設定で考えなければなりません。\n",
    "\n",
    "落とし穴2\n",
    "解析の手法を学ぶだけでは導入には至らない\n",
    "AIによって作業をすべて代替させるのではなく、AIと人間の共存によって効率化が図れる仕組みづくりが必要\n",
    "3.プロジェクトの引き継ぎを意識していない\n",
    "\n",
    "AIによる解析結果を現場に導入できたとしても、そのプロジェクトのメンバーが常にアサインされるものではなく、メンバーの変更や退職といったリスクがあります。\n",
    "その際に、ソースコードと説明書は引き継ぎ資料として共有されますが、解析した手順やうまくいかなかった時にどのように対処したかといった「過程」が共有されることは滅多にありません。\n",
    "Web系の制作と比較して、AIによる解析はフレームワークと呼ばれるプログラミングをサポートするツールを使用し、ソースコードの量は比較的少ない(時には数行程度)ことが多くあります。\n",
    "そのソースコードの中には、実験による試行錯誤で調整した値がいくつかあり、なぜその値に設定したかは挙動を見ながら実験した人しかわからない情報です。\n",
    "そのため、ソースコードを共有したところで、本質的な内容を引継ぐことができず、パッチを当てるような保守運用しかできなくなる技術的負債のリスクが生じます。しかし、限りある時間の中で、過程を共有するための膨大な資料を作成することは困難といえます。\n",
    "そのため、当社では解析を行う際にデスクトップ画面の動画を撮影しておくことで、作業手順の過程を共有できる工夫をしています。\n",
    "\n",
    "落とし穴3\n",
    "一人の解析者に頼りきると技術的負債のリスクが高まる\n",
    "成果を共有するソースコード以外にも、過程を共有する手段が必要\n",
    "実践を意識したカリキュラム\n",
    "今回紹介した3つの落とし穴も含め、単にプログラミングを勉強するだけではAIの導入が実現できることはありませんでした。\n",
    "その代表の苦い経験から、当社では実務での活用を意識したゴール設定の短期セミナーを開催しています。\n",
    "日本マイクロソフト株式会社、株式会社Preferred Networks両社公認で開催している「ディープラーニングハンズオンセミナー」をはじめ、当社では実践を意識したカリキュラムで1年間で100社以上のAI人材育成の研修を担当させていただいております。\n",
    "ディープラーニングハンズオンセミナーでは過去の受講生アンケートで満足度100％と高く評価していただいておりますので、「これからAIを使いたいけれど、何から始めれば良いか迷っている」いう方におすすめです。\n",
    "\n",
    "キカガクの満足度が高い3つの理由\n",
    "\n",
    "\n",
    "1.「手書きの数学」と「ハンズオン形式のプログラミング」のプログラミング\n",
    "\n",
    "2.実務での活用をゴールと設定した「実践的なカリキュラム」\n",
    "\n",
    "3.オフラインの集合形式で「集中して学びやすい環境」\n",
    "\n",
    "「学び方×内容×環境」の3つが新しいことを学ぶ上で重要であると考えています。\n",
    "\n",
    "定期開催しているセミナー以外に、AI事業化のための相談や、出張での法人研修(5名～)も承っておりますので、お気軽にご相談いただけます。\n",
    "\n",
    "セミナー情報\n",
    "ディープラーニングハンズオンセミナー日程\n",
    "3日間のハンズオン形式により知識やスキルを効率よく習得できます。\n",
    "\n",
    "2月7日(水)・2月8日(木)・2月9日(金) ＠品川(日本マイクロソフト)\n",
    "2月26日(月)・2月27日(火)・2月28日(水) ＠大阪(日本マイクロソフト)\n",
    "3月7日(水)・3月8日(木)・3月9日(金) ＠品川(日本マイクロソフト)\n",
    "○その他セミナー日程(全日程池袋オフィス開催)\n",
    "\n",
    "2月3日(土)・2月4日(日)　脱ブラックボックスセミナー\n",
    "2月10日(土)・2月11日(日)　システム自動化セミナー\n",
    "2月17日(土)・2月18日(日)　データサイエンスセミナー\n",
    "2月24日(土)・2月25日(日)　脱ブラックボックスセミナー\n",
    "3月10日(土)・3月11日(日)　脱ブラックボックスセミナー\n",
    "3月17日(土)・3月18日(日)　データエンジニアリングセミナー\n",
    "3月22日(木)・3月23日(金)　脱ブラックボックスセミナー\n",
    "セミナー詳細・お申込みはこちら\n",
    "URL： https://www.www.kikagaku.co.jp/services/seminars/\n",
    "\n",
    "株式会社キカガクについて\n",
    "人工知能・機械学習の導入を進めるための教育・コンサルティング・データ解析・システム開発を行っています。特に、今後の日本の産業への人工知能技術を扱えるエンジニアの重要性に注目し、現在は人工知能技術の教育事業を主軸としています。\n",
    "\n",
    "会社概要\n",
    "会社名　： 株式会社キカガク\n",
    "\n",
    "代表者　： 代表取締役社長　吉崎 亮介\n",
    "\n",
    "所在地　： 東京都豊島区池袋2丁目72−8 池袋笹井ビル2階\n",
    "\n",
    "設立日　： 2017年1月17日\n",
    "\n",
    "業務内容： 機械学習の教育およびコンサルティング\n",
    "\n",
    "URL　　 ： https://www.www.kikagaku.co.jp/\n",
    "\"\"\""
   ]
  },
  {
   "cell_type": "code",
   "execution_count": null,
   "metadata": {},
   "outputs": [],
   "source": [
    "# 文章要約の実行\n",
    "sentences, debug_info = summarize(\n",
    "    text, sent_limit=3, continuous=True, debug=True\n",
    ")"
   ]
  },
  {
   "cell_type": "code",
   "execution_count": null,
   "metadata": {},
   "outputs": [],
   "source": [
    "# 要約した結果\n",
    "sentences"
   ]
  }
 ],
 "metadata": {
  "kernelspec": {
   "display_name": "Python 3",
   "language": "python",
   "name": "python3"
  },
  "language_info": {
   "codemirror_mode": {
    "name": "ipython",
    "version": 3
   },
   "file_extension": ".py",
   "mimetype": "text/x-python",
   "name": "python",
   "nbconvert_exporter": "python",
   "pygments_lexer": "ipython3",
   "version": "3.6.5"
  }
 },
 "nbformat": 4,
 "nbformat_minor": 2
}
